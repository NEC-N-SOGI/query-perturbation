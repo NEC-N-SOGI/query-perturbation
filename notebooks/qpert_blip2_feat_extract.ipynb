{
 "cells": [
  {
   "cell_type": "code",
   "execution_count": 30,
   "metadata": {},
   "outputs": [
    {
     "name": "stdout",
     "output_type": "stream",
     "text": [
      "Position interpolate from 16x16 to 26x26\n"
     ]
    }
   ],
   "source": [
    "import warnings\n",
    "from pathlib import Path\n",
    "\n",
    "import torch\n",
    "from lavis.processors.blip_processors import BlipImageEvalProcessor\n",
    "from matplotlib import pyplot as plt\n",
    "from PIL import Image, ImageDraw, ImageFont\n",
    "\n",
    "from query_perturbation.data.box_loader import BoxInfo\n",
    "from query_perturbation.models.blip2.blip2_qpert import BLIP2Extractor\n",
    "from query_perturbation.models.weight import AreaBasedWeight, AreaWeightType\n",
    "\n",
    "warnings.simplefilter(\"ignore\")\n",
    "CONF_ROOT_DIR = Path(\"/query-perturbation/examples/\")\n",
    "\n",
    "# config\n",
    "config_path = CONF_ROOT_DIR / \"blip2_flickr.yaml\"\n",
    "\n",
    "# image preprocessor\n",
    "processor = BlipImageEvalProcessor(364)\n",
    "\n",
    "# weight function for each projection\n",
    "weight = AreaBasedWeight(6, 8, AreaWeightType.CONSTANT)\n",
    "\n",
    "# for subspace dimension. \n",
    "# n_pc must be float value less than 1, or an int.\n",
    "# if n_pc is a float, n_pc is used as a threshold for contribution ratio.\n",
    "# if n_pc is an int, subspace dimension is set to n_pc.\n",
    "n_pc = 0.9\n",
    "\n",
    "# feature extractor\n",
    "extractor = BLIP2Extractor(config_path, n_pc, \"cuda\", weight)\n"
   ]
  },
  {
   "cell_type": "markdown",
   "metadata": {},
   "source": [
    "Load image and show a bounding box"
   ]
  },
  {
   "cell_type": "code",
   "execution_count": 31,
   "metadata": {},
   "outputs": [
    {
     "name": "stdout",
     "output_type": "stream",
     "text": [
      "[xmin, ymin, xmax, ymax] =  [20, 150, 370, 220]\n"
     ]
    },
    {
     "data": {
      "image/jpeg": "[encoded data removed]",
      "image/png": "[encoded data removed]",
      "text/plain": [
       "<PIL.PngImagePlugin.PngImageFile image mode=RGB size=400x400>"
      ]
     },
     "execution_count": 31,
     "metadata": {},
     "output_type": "execute_result"
    }
   ],
   "source": [
    "# xmin, ymin, xmax, ymax\n",
    "bbox = [20, 150, 370, 220]\n",
    "\n",
    "image = Image.open(\"hello_world.png\")\n",
    "\n",
    "font_color = (255, 128, 0)\n",
    "dr = ImageDraw.Draw(image)\n",
    "# bounding box\n",
    "dr.rectangle(bbox, outline=font_color, width=5)\n",
    "# text\n",
    "font = ImageFont.truetype(\"arial.ttf\", 24)\n",
    "dr.text((20, 125), \"bbox\", font_color, font=font)\n",
    "\n",
    "# bounding box info and image\n",
    "print(\"[xmin, ymin, xmax, ymax] = \", bbox)\n",
    "image"
   ]
  },
  {
   "cell_type": "markdown",
   "metadata": {},
   "source": [
    "Feature extraction by Query Perturbation for a single image and a single bounding box."
   ]
  },
  {
   "cell_type": "code",
   "execution_count": 32,
   "metadata": {},
   "outputs": [
    {
     "name": "stdout",
     "output_type": "stream",
     "text": [
      "torch.Size([1, 32, 256])\n",
      "tensor([[[0.9809, 0.7478, 0.8728,  ..., 0.9634, 0.8322, 0.8527],\n",
      "         [0.7839, 0.9774, 0.8148,  ..., 0.7879, 0.6763, 0.8324],\n",
      "         [0.8645, 0.8022, 0.9818,  ..., 0.8350, 0.8516, 0.7955],\n",
      "         ...,\n",
      "         [0.9871, 0.7507, 0.8298,  ..., 0.9922, 0.8071, 0.8504],\n",
      "         [0.8032, 0.6321, 0.8280,  ..., 0.7926, 0.9929, 0.7751],\n",
      "         [0.8531, 0.7790, 0.7625,  ..., 0.8581, 0.7813, 0.9890]]],\n",
      "       device='cuda:0')\n"
     ]
    }
   ],
   "source": [
    "width, height = image.width, image.height\n",
    "\n",
    "# Organize bbox infomation\n",
    "box_width = bbox[2] - bbox[0]\n",
    "box_height = bbox[3] - bbox[1]\n",
    "area = (box_width * box_height) / (width * height)\n",
    "box_info = BoxInfo(\n",
    "    areas=[area],\n",
    "    boxes=[bbox],\n",
    "    img_size=[height, width],\n",
    "    sentences=[\"hello world\"]\n",
    ")\n",
    "\n",
    "\n",
    "img_tensor = processor(image).cuda().unsqueeze(0)\n",
    "with torch.inference_mode():\n",
    "    qpert_feats = extractor.extract_vis_feats(img_tensor, [box_info])\n",
    "    blip_feats = extractor.extract_vis_feats(img_tensor, None)\n",
    "\n",
    "print(qpert_feats.shape)\n",
    "# 32 is the BLIP-2s' hyperparameter, i.e, #learned queries.\n",
    "\n",
    "sim = qpert_feats @ blip_feats.transpose(1, 2)\n",
    "print(sim)\n"
   ]
  },
  {
   "cell_type": "markdown",
   "metadata": {},
   "source": [
    "Feature extraction by Query Perturbation for M images and N bounding boxes."
   ]
  },
  {
   "cell_type": "code",
   "execution_count": 33,
   "metadata": {},
   "outputs": [
    {
     "name": "stdout",
     "output_type": "stream",
     "text": [
      "torch.Size([4, 32, 256])\n"
     ]
    }
   ],
   "source": [
    "width, height = image.width, image.height\n",
    "\n",
    "# Organize bbox infomation\n",
    "box_width = bbox[2] - bbox[0]\n",
    "box_height = bbox[3] - bbox[1]\n",
    "area = (box_width * box_height) / (width * height)\n",
    "\n",
    "# n bounding boxes for an image\n",
    "n = 2\n",
    "box_info = BoxInfo(\n",
    "    areas=[area] * n,\n",
    "    boxes=[bbox] * n,\n",
    "    img_size=[height, width],\n",
    "    sentences=[\"hello world\"]\n",
    ")\n",
    "\n",
    "# m images\n",
    "m = 4\n",
    "img_tensor = processor(image).cuda().unsqueeze(0)\n",
    "img_tensors = torch.cat([img_tensor] * m, 0)\n",
    "\n",
    "box_infos = [box_info] * m\n",
    "\n",
    "with torch.inference_mode():\n",
    "    qpert_feats = extractor.extract_vis_feats(img_tensors, box_infos)\n",
    "\n",
    "print(qpert_feats.shape)\n",
    "# 32 is the BLIP-2s' hyperparameter, i.e, #learned queries."
   ]
  }
 ],
 "metadata": {
  "kernelspec": {
   "display_name": "Python 3",
   "language": "python",
   "name": "python3"
  },
  "language_info": {
   "codemirror_mode": {
    "name": "ipython",
    "version": 3
   },
   "file_extension": ".py",
   "mimetype": "text/x-python",
   "name": "python",
   "nbconvert_exporter": "python",
   "pygments_lexer": "ipython3",
   "version": "3.10.12"
  }
 },
 "nbformat": 4,
 "nbformat_minor": 2
}
